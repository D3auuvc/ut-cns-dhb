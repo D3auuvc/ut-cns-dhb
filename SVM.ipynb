{
 "cells": [
  {
   "cell_type": "code",
   "execution_count": 1,
   "id": "8ce1011f-91ca-41e7-a56c-6a43fac576c3",
   "metadata": {},
   "outputs": [],
   "source": [
    "import numpy as np\n",
    "from scipy import stats\n",
    "import pickle\n",
    "import torch\n",
    "import datetime\n",
    "from PIL import Image\n",
    "from matplotlib import pyplot as plt\n",
    "\n",
    "from sklearn.model_selection import GridSearchCV, RepeatedStratifiedKFold\n",
    "from sklearn.svm import SVC\n",
    "from sklearn.svm import NuSVC\n",
    "from sklearn.utils import shuffle\n",
    "from sklearn.metrics import classification_report, confusion_matrix"
   ]
  },
  {
   "cell_type": "code",
   "execution_count": 2,
   "id": "6e193557-69da-40f8-84fd-e0237ba3169b",
   "metadata": {},
   "outputs": [],
   "source": [
    "def loadFeature(path):\n",
    "    f=open(path,'rb')\n",
    "    feature=[]\n",
    "    dim=102\n",
    "    trainFeature=pickle.load(f)\n",
    "    for i in range(len(trainFeature['face']['mean'])):\n",
    "        for j in  range(len(trainFeature['face']['mean'][i])):\n",
    "            fv=np.zeros(dim+1)\n",
    "            fv[:dim]= trainFeature['face']['mean'][i][j].numpy()\n",
    "            #fv[2048:4096]= trainFeature['face']['v'][i][j].numpy()\n",
    "            fv[dim]=1\n",
    "            feature.append(fv)\n",
    "\n",
    "    for i in range(len(trainFeature['scramble']['mean'])):\n",
    "        for j in  range(len(trainFeature['scramble']['mean'][i])):\n",
    "            fv=np.zeros(dim+1)\n",
    "            fv[:dim]= trainFeature['scramble']['mean'][i][j].numpy()\n",
    "            #fv[2048:4096]= trainFeature['scramble']['v'][i][j].numpy()\n",
    "            fv[dim]=0\n",
    "            feature.append(fv)\n",
    "    return feature\n",
    "        \n",
    "def loadFeatureWithZ(path):\n",
    "    f=open(path,'rb')\n",
    "    feature=[]\n",
    "    dim=102\n",
    "    trainFeature=pickle.load(f)\n",
    "    for i in range(len(trainFeature['face']['z'])):\n",
    "        for j in  range(trainFeature['face']['z'][i].shape[0]):\n",
    "            fv=np.zeros(dim+1)\n",
    "            fv[:dim]= trainFeature['face']['z'][i][j]\n",
    "            #fv[2048:4096]= trainFeature['face']['v'][i][j].numpy()\n",
    "            fv[dim]=1\n",
    "            feature.append(fv)\n",
    "\n",
    "    for i in range(len(trainFeature['scramble']['z'])):\n",
    "        for j in  range(trainFeature['scramble']['z'][i].shape[0]):\n",
    "            fv=np.zeros(dim+1)\n",
    "            fv[:dim]= trainFeature['scramble']['z'][i][j]\n",
    "            #fv[2048:4096]= trainFeature['scramble']['v'][i][j].numpy()\n",
    "            fv[dim]=0\n",
    "            feature.append(fv)\n",
    "    return feature"
   ]
  },
  {
   "cell_type": "code",
   "execution_count": 18,
   "id": "5508c7ca-8284-4d86-a37d-756a622d6dae",
   "metadata": {},
   "outputs": [
    {
     "data": {
      "text/plain": [
       "(75200, 103)"
      ]
     },
     "execution_count": 18,
     "metadata": {},
     "output_type": "execute_result"
    }
   ],
   "source": [
    "feature = loadFeatureWithZ('./Model_output_Feature/Training_Feature_R108E80_102_AllClass_kKLDloss_with8Z')\n",
    "feature = np.array(feature)\n",
    "feature.shape"
   ]
  },
  {
   "cell_type": "code",
   "execution_count": 19,
   "id": "e81671ff-6b3f-452b-a3bb-1112e8939212",
   "metadata": {},
   "outputs": [
    {
     "name": "stdout",
     "output_type": "stream",
     "text": [
      "[0.1    0.3225 0.545  0.7675 0.99  ]\n",
      "Fitting 5 folds for each of 5 candidates, totalling 25 fits\n",
      "[CV] END .............................................nu=0.1; total time= 8.8min\n",
      "[CV] END ...........................................nu=0.545; total time=30.4min\n",
      "[CV] END ............................................nu=0.99; total time=19.3min\n",
      "[CV] END .............................................nu=0.1; total time= 8.4min\n",
      "[CV] END ..........................................nu=0.3225; total time=23.3min\n",
      "[CV] END ..........................................nu=0.7675; total time=27.4min\n",
      "[CV] END .............................................nu=0.1; total time= 8.5min\n",
      "[CV] END ...........................................nu=0.545; total time=28.9min\n",
      "[CV] END ..........................................nu=0.7675; total time=25.2min\n",
      "[CV] END .............................................nu=0.1; total time= 8.5min\n",
      "[CV] END ...........................................nu=0.545; total time=28.8min\n",
      "[CV] END ..........................................nu=0.7675; total time=26.4min\n",
      "[CV] END ..........................................nu=0.3225; total time=20.0min\n",
      "[CV] END ...........................................nu=0.545; total time=28.3min\n",
      "[CV] END ............................................nu=0.99; total time=16.1min\n",
      "[CV] END ..........................................nu=0.3225; total time=20.5min\n",
      "[CV] END ...........................................nu=0.545; total time=28.5min\n",
      "[CV] END ............................................nu=0.99; total time=16.0min\n",
      "[CV] END ..........................................nu=0.3225; total time=21.7min\n",
      "[CV] END ..........................................nu=0.7675; total time=28.7min\n",
      "[CV] END ............................................nu=0.99; total time=15.1min\n",
      "[CV] END .............................................nu=0.1; total time= 8.2min\n",
      "[CV] END ..........................................nu=0.3225; total time=22.2min\n",
      "[CV] END ..........................................nu=0.7675; total time=27.1min\n",
      "[CV] END ............................................nu=0.99; total time= 9.0min\n"
     ]
    },
    {
     "data": {
      "text/plain": [
       "GridSearchCV(cv=RepeatedStratifiedKFold(n_repeats=1, n_splits=5, random_state=1024),\n",
       "             estimator=NuSVC(kernel='sigmoid', random_state=13), n_jobs=-1,\n",
       "             param_grid={'nu': array([0.1   , 0.3225, 0.545 , 0.7675, 0.99  ])},\n",
       "             scoring='accuracy', verbose=2)"
      ]
     },
     "execution_count": 19,
     "metadata": {},
     "output_type": "execute_result"
    }
   ],
   "source": [
    "f=shuffle(feature)\n",
    "t=int(np.round(f.shape[0]*0.7))\n",
    "train = f[:t,:] \n",
    "dim=102\n",
    "\n",
    "#C_range = np.logspace(-2, 10, 5)\n",
    "gamma_range = np.linspace(1, 10, 1)\n",
    "#degree_range = np.arange(5,20,1)\n",
    "nu_r=np.linspace(0.1, 0.99, 5)\n",
    "print(nu_r)\n",
    "#ker= ['rbf', 'sigmoid']\n",
    "param_grid = dict(nu=nu_r)\n",
    "#param_grid = {'degree': [5,10,15,20],'nu' : [0.1,0.2,0.3,0.4,0.5]}\n",
    "#svc = SVC(random_state=13)\n",
    "cv = RepeatedStratifiedKFold(n_splits=5, n_repeats=1, random_state=1024)\n",
    "search = GridSearchCV(NuSVC(kernel='sigmoid',random_state=13), param_grid=param_grid, scoring=\"accuracy\", cv=cv,n_jobs=-1,verbose=2)\n",
    "search.fit(train[:,0:dim] , train[:,dim:dim+1].reshape(train.shape[0],))"
   ]
  },
  {
   "cell_type": "code",
   "execution_count": 23,
   "id": "d7abbeb4-5457-40ee-93ba-bab7b12cf4d0",
   "metadata": {},
   "outputs": [
    {
     "data": {
      "text/plain": [
       "0.5016907294832827"
      ]
     },
     "execution_count": 23,
     "metadata": {},
     "output_type": "execute_result"
    }
   ],
   "source": [
    "search.best_score_"
   ]
  },
  {
   "cell_type": "code",
   "execution_count": 22,
   "id": "dffff990-dd72-44b4-9aa4-43c3bc7e2021",
   "metadata": {},
   "outputs": [
    {
     "name": "stdout",
     "output_type": "stream",
     "text": [
      "              precision    recall  f1-score   support\n",
      "\n",
      "         0.0       0.50      0.50      0.50     11414\n",
      "         1.0       0.49      0.50      0.49     11146\n",
      "\n",
      "    accuracy                           0.50     22560\n",
      "   macro avg       0.50      0.50      0.50     22560\n",
      "weighted avg       0.50      0.50      0.50     22560\n",
      "\n"
     ]
    }
   ],
   "source": [
    "\n",
    "testset = f[t:,0:dim]\n",
    "testy = f[t:,dim:dim+1]\n",
    "result = search.best_estimator_.predict(testset)\n",
    "print(classification_report(result,testy))"
   ]
  },
  {
   "cell_type": "code",
   "execution_count": null,
   "id": "01435228-3a5d-4b38-ac39-e83c6a276a20",
   "metadata": {},
   "outputs": [],
   "source": []
  }
 ],
 "metadata": {
  "kernelspec": {
   "display_name": "Python 3 (ipykernel)",
   "language": "python",
   "name": "python3"
  },
  "language_info": {
   "codemirror_mode": {
    "name": "ipython",
    "version": 3
   },
   "file_extension": ".py",
   "mimetype": "text/x-python",
   "name": "python",
   "nbconvert_exporter": "python",
   "pygments_lexer": "ipython3",
   "version": "3.9.2"
  }
 },
 "nbformat": 4,
 "nbformat_minor": 5
}
