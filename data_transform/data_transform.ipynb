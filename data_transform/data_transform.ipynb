{
 "cells": [
  {
   "cell_type": "code",
   "execution_count": 36,
   "id": "d26717b4-42c1-43a1-8ea5-0772ae39ea40",
   "metadata": {},
   "outputs": [],
   "source": [
    "import scipy.io as sio\n",
    "import os\n",
    "import numpy as np\n",
    "from scipy.io import loadmat\n",
    "from mayavi import mlab\n",
    "import matplotlib.pyplot as plt\n",
    "from matplotlib import mlab\n",
    "import pickle\n",
    "from sklearn.preprocessing import minmax_scale"
   ]
  },
  {
   "cell_type": "code",
   "execution_count": 2,
   "id": "d5908115-5210-4f63-9217-782051b60699",
   "metadata": {},
   "outputs": [
    {
     "ename": "AttributeError",
     "evalue": "module 'matplotlib.mlab' has no attribute 'quiver3d'",
     "output_type": "error",
     "traceback": [
      "\u001b[0;31m---------------------------------------------------------------------------\u001b[0m",
      "\u001b[0;31mAttributeError\u001b[0m                            Traceback (most recent call last)",
      "\u001b[0;32m/tmp/ipykernel_7249/723962740.py\u001b[0m in \u001b[0;36m<module>\u001b[0;34m\u001b[0m\n\u001b[1;32m      8\u001b[0m     \u001b[0;31m# Normalize orientation for visualization purpose:\u001b[0m\u001b[0;34m\u001b[0m\u001b[0;34m\u001b[0m\u001b[0;34m\u001b[0m\u001b[0m\n\u001b[1;32m      9\u001b[0m \u001b[0morientation\u001b[0m \u001b[0;34m=\u001b[0m \u001b[0morientation\u001b[0m \u001b[0;34m/\u001b[0m \u001b[0mnp\u001b[0m\u001b[0;34m.\u001b[0m\u001b[0msqrt\u001b[0m\u001b[0;34m(\u001b[0m\u001b[0;34m(\u001b[0m\u001b[0morientation\u001b[0m \u001b[0;34m*\u001b[0m \u001b[0morientation\u001b[0m\u001b[0;34m)\u001b[0m\u001b[0;34m.\u001b[0m\u001b[0msum\u001b[0m\u001b[0;34m(\u001b[0m\u001b[0;36m1\u001b[0m\u001b[0;34m)\u001b[0m\u001b[0;34m)\u001b[0m\u001b[0;34m[\u001b[0m\u001b[0;34m:\u001b[0m\u001b[0;34m,\u001b[0m\u001b[0;32mNone\u001b[0m\u001b[0;34m]\u001b[0m\u001b[0;34m\u001b[0m\u001b[0;34m\u001b[0m\u001b[0m\n\u001b[0;32m---> 10\u001b[0;31m \u001b[0mmlab\u001b[0m\u001b[0;34m.\u001b[0m\u001b[0mquiver3d\u001b[0m\u001b[0;34m(\u001b[0m\u001b[0mposition\u001b[0m\u001b[0;34m[\u001b[0m\u001b[0;34m:\u001b[0m\u001b[0;34m,\u001b[0m\u001b[0;36m0\u001b[0m\u001b[0;34m]\u001b[0m\u001b[0;34m,\u001b[0m \u001b[0mposition\u001b[0m\u001b[0;34m[\u001b[0m\u001b[0;34m:\u001b[0m\u001b[0;34m,\u001b[0m\u001b[0;36m1\u001b[0m\u001b[0;34m]\u001b[0m\u001b[0;34m,\u001b[0m \u001b[0mposition\u001b[0m\u001b[0;34m[\u001b[0m\u001b[0;34m:\u001b[0m\u001b[0;34m,\u001b[0m\u001b[0;36m2\u001b[0m\u001b[0;34m]\u001b[0m\u001b[0;34m,\u001b[0m \u001b[0morientation\u001b[0m\u001b[0;34m[\u001b[0m\u001b[0;34m:\u001b[0m\u001b[0;34m,\u001b[0m\u001b[0;36m0\u001b[0m\u001b[0;34m]\u001b[0m\u001b[0;34m,\u001b[0m \u001b[0morientation\u001b[0m\u001b[0;34m[\u001b[0m\u001b[0;34m:\u001b[0m\u001b[0;34m,\u001b[0m\u001b[0;36m1\u001b[0m\u001b[0;34m]\u001b[0m\u001b[0;34m,\u001b[0m \u001b[0morientation\u001b[0m\u001b[0;34m[\u001b[0m\u001b[0;34m:\u001b[0m\u001b[0;34m,\u001b[0m\u001b[0;36m2\u001b[0m\u001b[0;34m]\u001b[0m\u001b[0;34m,\u001b[0m \u001b[0mcolor\u001b[0m\u001b[0;34m=\u001b[0m\u001b[0;34m(\u001b[0m\u001b[0;36m1\u001b[0m\u001b[0;34m,\u001b[0m\u001b[0;36m0\u001b[0m\u001b[0;34m,\u001b[0m\u001b[0;36m0\u001b[0m\u001b[0;34m)\u001b[0m\u001b[0;34m)\u001b[0m\u001b[0;34m\u001b[0m\u001b[0;34m\u001b[0m\u001b[0m\n\u001b[0m\u001b[1;32m     11\u001b[0m \u001b[0mmlab\u001b[0m\u001b[0;34m.\u001b[0m\u001b[0mshow\u001b[0m\u001b[0;34m(\u001b[0m\u001b[0;34m)\u001b[0m\u001b[0;34m\u001b[0m\u001b[0;34m\u001b[0m\u001b[0m\n",
      "\u001b[0;31mAttributeError\u001b[0m: module 'matplotlib.mlab' has no attribute 'quiver3d'"
     ]
    }
   ],
   "source": [
    "filename = './decoding-the-human-brain/DecMeg2014-master/additional_files/NeuroMagSensorsDeviceSpace.mat'\n",
    "data = loadmat(filename, chars_as_strings=True)\n",
    "position = data['pos']\n",
    "orientation = data['ori']\n",
    "label = data['lab']\n",
    "sensor_type = data['typ']\n",
    "\n",
    "    # Normalize orientation for visualization purpose:\n",
    "orientation = orientation / np.sqrt((orientation * orientation).sum(1))[:,None]\n",
    "mlab.quiver3d(position[:,0], position[:,1], position[:,2], orientation[:,0], orientation[:,1], orientation[:,2], color=(1,0,0))\n",
    "mlab.show()"
   ]
  },
  {
   "cell_type": "code",
   "execution_count": 51,
   "id": "e978bcd6-b9df-449f-bafd-07a4e85ec547",
   "metadata": {},
   "outputs": [],
   "source": [
    "#fftS1=np.zeros(s1.shape)\n",
    "#for i in\n",
    "FFTdata_face=[]\n",
    "FFTdata_scramble=[]\n",
    "FFTdata=[]\n",
    "path=\"./decoding-the-human-brain/MEG_Train_Data\"\n",
    "for x in sorted(os.listdir(path)):\n",
    "    data = sio.loadmat(path+'/'+x)\n",
    "    tmp=np.power(np.abs(np.fft.fft(data['X']))[:,:,:188],2)#.reshape(-1,3,102,188)\n",
    "    for i in range(tmp.shape[0]):\n",
    "        tmp[i]=minmax_scale(tmp[i],axis=2)\n",
    "    #FFTdata.append(tmp)\n",
    "    tmp=tmp.reshape(-1,3,102,188)\n",
    "    scrambleidx=np.where(data['y']==0)\n",
    "    faceidx=np.where(data['y']==1)\n",
    "    FFTdata_face.append(tmp[faceidx[0]])\n",
    "    FFTdata_scramble.append(tmp[scrambleidx[0]])"
   ]
  },
  {
   "cell_type": "code",
   "execution_count": 35,
   "id": "4ebfa4e0-2c10-4b4f-8eb1-de26a1acbcdc",
   "metadata": {},
   "outputs": [],
   "source": [
    "f=open('./decoding-the-human-brain/FFT_AllSubject_Training_Face_mini','wb')\n",
    "pickle.dump(FFTdata_face,f)\n",
    "f=open('./decoding-the-human-brain/FFT_AllSubject_Training_scramble','wb')\n",
    "pickle.dump(FFTdata_scramble,f)"
   ]
  },
  {
   "cell_type": "code",
   "execution_count": 49,
   "id": "72788fcf-ba13-4836-8c3b-525084e63a34",
   "metadata": {},
   "outputs": [
    {
     "data": {
      "text/plain": [
       "Text(0, 0.5, 'Power')"
      ]
     },
     "execution_count": 49,
     "metadata": {},
     "output_type": "execute_result"
    },
    {
     "data": {
      "image/png": "[encoded data removed]",
      "text/plain": [
       "<Figure size 432x288 with 1 Axes>"
      ]
     },
     "metadata": {
      "needs_background": "light"
     },
     "output_type": "display_data"
    }
   ],
   "source": [
    "samplingFrequency = 375\n",
    "samplingInterval  = 1.5/samplingFrequency\n",
    "df    = 1/1.5\n",
    "fNQ = 1/samplingInterval/2\n",
    "xaxis= np.arange(0,fNQ,df)\n",
    "\n",
    "fig,axes=plt.subplots()\n",
    "fig.suptitle('Alpha wave(FFT Transformed) on Eye closed and open')\n",
    "axes.plot(xaxis,FFTdata[0][0,2])\n",
    "#axes[0].set_xticks(xaxis)\n",
    "#axes[0].set_xticklabels(xaxis)\n",
    "axes.set_title('Eyes closed (FFT)')\n",
    "axes.set_xlabel('Frequency')\n",
    "axes.set_ylabel('Power')"
   ]
  },
  {
   "cell_type": "code",
   "execution_count": 62,
   "id": "fd89b2e7-7761-4283-b230-90c288c6e436",
   "metadata": {},
   "outputs": [
    {
     "data": {
      "text/plain": [
       "array([[[4.96091207e-01, 3.00786870e-02, 4.62404551e-01, ...,\n",
       "         8.35364781e-03, 7.41579673e-04, 9.60871338e-03],\n",
       "        [3.23844505e-02, 3.04182640e-01, 1.00000000e+00, ...,\n",
       "         1.48877151e-03, 3.28248726e-03, 3.66138430e-03],\n",
       "        [4.72079064e-01, 5.61008530e-02, 6.57048627e-01, ...,\n",
       "         9.08267100e-05, 1.00086550e-04, 3.50730225e-04],\n",
       "        ...,\n",
       "        [1.17900989e-03, 9.02765724e-04, 1.95789349e-02, ...,\n",
       "         5.44007862e-04, 9.26822163e-05, 5.58313588e-04],\n",
       "        [1.59574361e-03, 7.90301866e-03, 1.61181220e-01, ...,\n",
       "         2.14562839e-04, 2.33065433e-04, 1.16173535e-05],\n",
       "        [3.54224663e-03, 8.05366276e-04, 2.73764475e-02, ...,\n",
       "         1.39483555e-05, 1.21504718e-04, 6.70104479e-05]],\n",
       "\n",
       "       [[1.00000000e+00, 1.54810400e-01, 9.32426459e-01, ...,\n",
       "         1.05221138e-02, 7.00323214e-04, 1.40609268e-02],\n",
       "        [3.96607572e-02, 1.48036198e-02, 5.38826054e-01, ...,\n",
       "         1.70447843e-03, 7.93318681e-03, 3.45068995e-03],\n",
       "        [6.18796708e-03, 1.05747368e-02, 1.72313477e-02, ...,\n",
       "         9.46248547e-05, 1.79314608e-04, 1.77559318e-04],\n",
       "        ...,\n",
       "        [1.03521185e-01, 4.17153287e-03, 1.62068519e-01, ...,\n",
       "         7.76651620e-04, 2.31011924e-03, 1.83850597e-03],\n",
       "        [4.75042983e-03, 9.97340998e-03, 3.25393587e-03, ...,\n",
       "         5.12308099e-04, 2.72347473e-04, 4.45683987e-04],\n",
       "        [3.94425197e-02, 1.41824988e-02, 2.69105435e-01, ...,\n",
       "         1.69350871e-05, 3.36748496e-05, 1.20978325e-05]],\n",
       "\n",
       "       [[2.63723788e-01, 1.99003673e-01, 1.28777511e-01, ...,\n",
       "         1.02777500e-03, 5.66131644e-05, 2.86450287e-04],\n",
       "        [6.61067070e-01, 1.01696476e-01, 2.21723502e-01, ...,\n",
       "         2.21192041e-03, 7.65271388e-03, 3.67790791e-04],\n",
       "        [1.04396348e-01, 1.64709467e-01, 1.53967511e-01, ...,\n",
       "         3.46203685e-04, 4.51157246e-04, 6.79606490e-05],\n",
       "        ...,\n",
       "        [0.00000000e+00, 1.44185327e-02, 2.58267621e-01, ...,\n",
       "         2.04334855e-03, 8.02283207e-03, 8.30695599e-03],\n",
       "        [1.60039082e-04, 5.42817424e-02, 2.64575699e-01, ...,\n",
       "         6.01358513e-03, 1.26576137e-02, 1.89175950e-03],\n",
       "        [3.34867902e-02, 3.86715972e-02, 1.47658203e-02, ...,\n",
       "         3.48531145e-04, 6.59608913e-04, 9.20626854e-04]]])"
      ]
     },
     "execution_count": 62,
     "metadata": {},
     "output_type": "execute_result"
    }
   ],
   "source": [
    "FFTdata_face[0][0]"
   ]
  },
  {
   "cell_type": "code",
   "execution_count": null,
   "id": "84f6fa52-5328-47bf-a723-caac168eb45d",
   "metadata": {},
   "outputs": [],
   "source": []
  }
 ],
 "metadata": {
  "kernelspec": {
   "display_name": "Python 3 (ipykernel)",
   "language": "python",
   "name": "python3"
  },
  "language_info": {
   "codemirror_mode": {
    "name": "ipython",
    "version": 3
   },
   "file_extension": ".py",
   "mimetype": "text/x-python",
   "name": "python",
   "nbconvert_exporter": "python",
   "pygments_lexer": "ipython3",
   "version": "3.9.2"
  }
 },
 "nbformat": 4,
 "nbformat_minor": 5
}
